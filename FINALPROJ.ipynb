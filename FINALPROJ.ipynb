{
 "cells": [
  {
   "cell_type": "code",
   "execution_count": 14,
   "id": "6a81c712",
   "metadata": {},
   "outputs": [],
   "source": [
    "\n",
    "import numpy as np\n",
    "import matplotlib.pyplot as plt\n",
    "from scipy.spatial import Delaunay\n",
    "\n",
    "from astropy.io import fits\n",
    "from astropy.table import Table, hstack\n",
    "from astropy.wcs import WCS\n",
    "from astropy import coordinates as coord\n",
    "from astropy import units as u\n",
    "from astropy.cosmology import Planck18\n",
    "from astropy.coordinates import SkyCoord"
   ]
  },
  {
   "cell_type": "markdown",
   "id": "a32a7d95",
   "metadata": {},
   "source": [
    "# DATA PREP"
   ]
  },
  {
   "cell_type": "code",
   "execution_count": 15,
   "id": "218faf93",
   "metadata": {},
   "outputs": [
    {
     "name": "stdout",
     "output_type": "stream",
     "text": [
      "['ra', 'dec', 'redshift', 'Rgal', 'rabsmag']\n",
      "120606\n",
      "['Index', 'X', 'Y', 'Z', 'Void Classification']\n",
      "107490\n",
      "['ra', 'dec', 'redshift', 'Rgal', 'rabsmag']\n",
      "120606\n"
     ]
    }
   ],
   "source": [
    "catalog = Table.read('SDSS_DR7_catlaog_vollim.dat', format='ascii')\n",
    "print(catalog.colnames)\n",
    "print(len(catalog))\n",
    "\n",
    "Austin_class = Table.read(\"galaxy_void_classifications.dat\", format='ascii')\n",
    "print(Austin_class.colnames)\n",
    "print(len(Austin_class))\n",
    "\n",
    "Austin_data = Table.read(\"vollim_dr7_cbp_102709.dat\" , format='ascii')\n",
    "print(Austin_data.colnames)\n",
    "print(len(Austin_data))"
   ]
  },
  {
   "cell_type": "code",
   "execution_count": 16,
   "id": "261cee8c",
   "metadata": {},
   "outputs": [
    {
     "data": {
      "text/html": [
       "<div><i>Table length=107490</i>\n",
       "<table id=\"table2135525625472\" class=\"table-striped table-bordered table-condensed\">\n",
       "<thead><tr><th>Index</th><th>X</th><th>Y</th><th>Z</th><th>Void Classification</th></tr></thead>\n",
       "<thead><tr><th>int64</th><th>float64</th><th>float64</th><th>float64</th><th>int64</th></tr></thead>\n",
       "<tr><td>0</td><td>-225.83502939603665</td><td>33.380040422036004</td><td>-4.20176827803359</td><td>0</td></tr>\n",
       "<tr><td>1</td><td>-228.2865785884008</td><td>21.835838874076924</td><td>-4.207835557375765</td><td>0</td></tr>\n",
       "<tr><td>2</td><td>-127.07035086633252</td><td>-214.71693768204196</td><td>-2.036454642545222</td><td>0</td></tr>\n",
       "<tr><td>3</td><td>-77.30838521420394</td><td>-132.18668741668142</td><td>-1.1994083737756003</td><td>0</td></tr>\n",
       "<tr><td>4</td><td>-77.17626037293262</td><td>-132.06325037487125</td><td>-1.2022964627179837</td><td>0</td></tr>\n",
       "<tr><td>5</td><td>-88.64798332288218</td><td>-157.20795903485555</td><td>-1.3628527085650357</td><td>0</td></tr>\n",
       "<tr><td>6</td><td>-83.83784272771014</td><td>-149.18251293916907</td><td>-1.5135792861427908</td><td>0</td></tr>\n",
       "<tr><td>7</td><td>-82.8061041106798</td><td>-151.00348766098682</td><td>-1.282402970971039</td><td>0</td></tr>\n",
       "<tr><td>8</td><td>-133.06090298152083</td><td>-243.24862829581676</td><td>-2.3618926840509133</td><td>0</td></tr>\n",
       "<tr><td>...</td><td>...</td><td>...</td><td>...</td><td>...</td></tr>\n",
       "<tr><td>107480</td><td>-22.75965643140408</td><td>6.989826445767056</td><td>22.76222278281924</td><td>1</td></tr>\n",
       "<tr><td>107481</td><td>-9.841630590214736</td><td>1.8081998508525134</td><td>3.192956377169244</td><td>1</td></tr>\n",
       "<tr><td>107482</td><td>-0.09744157682096964</td><td>-0.22546331833132513</td><td>0.1720202667850427</td><td>1</td></tr>\n",
       "<tr><td>107483</td><td>-100.67834540104913</td><td>72.51138270601658</td><td>48.78669497403091</td><td>1</td></tr>\n",
       "<tr><td>107484</td><td>-24.988196133048977</td><td>11.160318036537454</td><td>6.1011322037613285</td><td>1</td></tr>\n",
       "<tr><td>107485</td><td>-39.82776211347037</td><td>-5.907597731476847</td><td>52.00990157190147</td><td>1</td></tr>\n",
       "<tr><td>107486</td><td>-118.06424229939294</td><td>-57.56996150002616</td><td>18.5168817491981</td><td>1</td></tr>\n",
       "<tr><td>107487</td><td>-133.47485048178555</td><td>-98.80976849241469</td><td>49.301359829321214</td><td>1</td></tr>\n",
       "<tr><td>107488</td><td>-62.25432641021563</td><td>-72.03757383822698</td><td>32.95817206473227</td><td>1</td></tr>\n",
       "<tr><td>107489</td><td>-46.63470595169554</td><td>-65.06167488148832</td><td>18.7298453869075</td><td>1</td></tr>\n",
       "</table></div>"
      ],
      "text/plain": [
       "<Table length=107490>\n",
       "Index           X           ...          Z          Void Classification\n",
       "int64        float64        ...       float64              int64       \n",
       "------ -------------------- ... ------------------- -------------------\n",
       "     0  -225.83502939603665 ...   -4.20176827803359                   0\n",
       "     1   -228.2865785884008 ...  -4.207835557375765                   0\n",
       "     2  -127.07035086633252 ...  -2.036454642545222                   0\n",
       "     3   -77.30838521420394 ... -1.1994083737756003                   0\n",
       "     4   -77.17626037293262 ... -1.2022964627179837                   0\n",
       "     5   -88.64798332288218 ... -1.3628527085650357                   0\n",
       "     6   -83.83784272771014 ... -1.5135792861427908                   0\n",
       "     7    -82.8061041106798 ...  -1.282402970971039                   0\n",
       "     8  -133.06090298152083 ... -2.3618926840509133                   0\n",
       "   ...                  ... ...                 ...                 ...\n",
       "107480   -22.75965643140408 ...   22.76222278281924                   1\n",
       "107481   -9.841630590214736 ...   3.192956377169244                   1\n",
       "107482 -0.09744157682096964 ...  0.1720202667850427                   1\n",
       "107483  -100.67834540104913 ...   48.78669497403091                   1\n",
       "107484  -24.988196133048977 ...  6.1011322037613285                   1\n",
       "107485   -39.82776211347037 ...   52.00990157190147                   1\n",
       "107486  -118.06424229939294 ...    18.5168817491981                   1\n",
       "107487  -133.47485048178555 ...  49.301359829321214                   1\n",
       "107488   -62.25432641021563 ...   32.95817206473227                   1\n",
       "107489   -46.63470595169554 ...    18.7298453869075                   1"
      ]
     },
     "execution_count": 16,
     "metadata": {},
     "output_type": "execute_result"
    }
   ],
   "source": [
    "Austin_class\n"
   ]
  },
  {
   "cell_type": "code",
   "execution_count": 17,
   "id": "f4dde1a8",
   "metadata": {},
   "outputs": [
    {
     "name": "stdout",
     "output_type": "stream",
     "text": [
      "['x', 'y', 'z', 'redshift', 'ra', 'dec', 'radius', 'x1', 'y1', 'z1', 'x2', 'y2', 'z2', 'x3', 'y3', 'z3', 'area', 'edge']\n",
      "531\n",
      "['NSAID', 'zone', 'depth', 'edge', 'out']\n",
      "194125\n"
     ]
    }
   ],
   "source": [
    "from astropy.cosmology import Planck18\n",
    "\n",
    "labels = Table.read(\"V2_VIDE-nsa_v1_0_1_Planck2018_zobovoids.dat\", format='ascii')  # Specify the correct format\n",
    "print(labels.colnames)\n",
    "print(len(labels))\n",
    "\n",
    "void_classifier = Table.read(\"V2_VIDE-nsa_v1_0_1_Planck2018_galzones.dat\", format='ascii')  # Specify the correct format\n",
    "print(void_classifier.colnames)\n",
    "print(len(void_classifier))\n",
    "\n"
   ]
  },
  {
   "cell_type": "markdown",
   "id": "443d6899",
   "metadata": {},
   "source": [
    "# CONVERT TO XYZ"
   ]
  },
  {
   "cell_type": "code",
   "execution_count": 18,
   "id": "c2e12f6e",
   "metadata": {},
   "outputs": [
    {
     "name": "stdout",
     "output_type": "stream",
     "text": [
      "    ra        dec    redshift ...          y                   z          \n",
      "---------- --------- -------- ... ------------------- --------------------\n",
      "171.592148 -1.054439 0.077352 ...  33.380439456979786   -4.201818507222872\n",
      "174.536224 -1.051174  0.07771 ...  21.836113888392614   -4.207888553508546\n",
      "239.382782 -0.467646 0.084655 ... -214.71841309343415  -2.0364686358911204\n",
      "239.679092 -0.448756 0.051608 ... -132.18813677073487  -1.1994215246262816\n",
      "239.698471 -0.450346 0.051549 ... -132.06747809734955   -1.202334951667533\n",
      "240.629196 -0.597995 0.094277 ...  -241.6524768705178  -2.8942268386243404\n",
      "240.581787 -0.432649 0.060939 ... -157.20401535690624   -1.362818520396651\n",
      " 240.66481 -0.506757 0.057744 ...  -149.1799148683226  -1.5135529265773187\n",
      "241.260864  -0.42664 0.058116 ... -151.00139949646262   -1.282385237152892\n",
      "241.320633 -0.488067 0.094263 ... -243.24542521225908   -2.361861582787674\n",
      "       ...       ...      ... ...                 ...                  ...\n",
      "254.179977 27.821945 0.034347 ...  -87.02190915627035     47.7320078542621\n",
      "254.507111 38.219166 0.033607 ...  -75.77079853354692     61.9166174579412\n",
      "176.665405 -1.996389 0.028186 ...   4.884790453491077    -2.92731203499006\n",
      "194.863342 14.171667 0.006631 ...  -4.936850373518833   4.8598350292089005\n",
      " 209.10376 -0.247222 0.029687 ... -43.035627259662505 -0.38177567127876544\n",
      "210.355408 -0.623889 0.024667 ...  -37.18740958342214  -0.8012995829607787\n",
      "218.935425 -0.013333 0.029647 ... -55.529320233958096 -0.02056179145094486\n",
      "244.932526 31.281389 0.034384 ...  -79.25539992017913    53.15994849688876\n",
      "246.757507 49.535557 0.047553 ...  -84.21047845982666    107.4414269243458\n",
      "241.195023 24.278889 0.031822 ...  -75.72277468744413    38.97972353063151\n",
      "Length = 120606 rows\n",
      "-313.7441597467512\n",
      "-285.1712193324134\n",
      "-20.088293667743528\n"
     ]
    }
   ],
   "source": [
    "# Convert redshift to comoving distance in Mpc/h\n",
    "\n",
    "\"\"\"\n",
    "find xyz coordinates from redshift using astropy cosmology\n",
    "\"\"\"\n",
    "\n",
    "comoving_dist = Planck18.comoving_distance(catalog['redshift']).to(u.Mpc).value\n",
    "comoving_dist_mpc_h = comoving_dist * Planck18.h  # Convert to Mpc/h\n",
    "\n",
    "# Create SkyCoord object with distances\n",
    "coords = SkyCoord(\n",
    "ra=catalog['ra'] * u.deg,\n",
    "dec=catalog['dec'] * u.deg,\n",
    "distance=catalog[\"Rgal\"] * u.Mpc,\n",
    "frame='icrs')\n",
    "\n",
    "# Extract Cartesian coordinates\n",
    "catalog['x'] = coords.cartesian.x.value\n",
    "catalog['y'] = coords.cartesian.y.value\n",
    "catalog['z'] = coords.cartesian.z.value\n",
    "\n",
    "# Done! Table now has x, y, z\n",
    "catalog.pprint()\n",
    "\n",
    "print(np.min(catalog['x']))\n",
    "print(np.min(catalog['y']))\n",
    "print(np.min(catalog['z']))\n",
    "\n",
    "\n",
    "\n",
    "\n",
    "\n"
   ]
  },
  {
   "cell_type": "code",
   "execution_count": 19,
   "id": "273d7378",
   "metadata": {},
   "outputs": [
    {
     "name": "stdout",
     "output_type": "stream",
     "text": [
      "120606\n"
     ]
    },
    {
     "data": {
      "text/html": [
       "<div><i>Table length=120606</i>\n",
       "<table id=\"table2135526488960\" class=\"table-striped table-bordered table-condensed\">\n",
       "<thead><tr><th>ra</th><th>dec</th><th>redshift</th><th>Rgal</th><th>rabsmag</th><th>x</th><th>y</th><th>z</th></tr></thead>\n",
       "<thead><tr><th>float64</th><th>float64</th><th>float64</th><th>float64</th><th>float64</th><th>float64</th><th>float64</th><th>float64</th></tr></thead>\n",
       "<tr><td>171.592148</td><td>-1.054439</td><td>0.077352</td><td>228.33</td><td>-20.697</td><td>-225.83772909523174</td><td>33.380439456979786</td><td>-4.201818507222872</td></tr>\n",
       "<tr><td>174.536224</td><td>-1.051174</td><td>0.07771</td><td>229.37</td><td>-20.283</td><td>-228.2894537734374</td><td>21.836113888392614</td><td>-4.207888553508546</td></tr>\n",
       "<tr><td>239.382782</td><td>-0.467646</td><td>0.084655</td><td>249.51</td><td>-20.718</td><td>-127.07122402075295</td><td>-214.71841309343415</td><td>-2.0364686358911204</td></tr>\n",
       "<tr><td>239.679092</td><td>-0.448756</td><td>0.051608</td><td>153.14</td><td>-20.687</td><td>-77.30923285796948</td><td>-132.18813677073487</td><td>-1.1994215246262816</td></tr>\n",
       "<tr><td>239.698471</td><td>-0.450346</td><td>0.051549</td><td>152.97</td><td>-20.197</td><td>-77.17873100582892</td><td>-132.06747809734955</td><td>-1.202334951667533</td></tr>\n",
       "<tr><td>240.629196</td><td>-0.597995</td><td>0.094277</td><td>277.31</td><td>-21.288</td><td>-136.00198518165257</td><td>-241.6524768705178</td><td>-2.8942268386243404</td></tr>\n",
       "<tr><td>240.581787</td><td>-0.432649</td><td>0.060939</td><td>180.48</td><td>-20.996</td><td>-88.64575952264187</td><td>-157.20401535690624</td><td>-1.362818520396651</td></tr>\n",
       "<tr><td>240.66481</td><td>-0.506757</td><td>0.057744</td><td>171.13</td><td>-20.642</td><td>-83.8363826594305</td><td>-149.1799148683226</td><td>-1.5135529265773187</td></tr>\n",
       "<tr><td>241.260864</td><td>-0.42664</td><td>0.058116</td><td>172.22</td><td>-21.213</td><td>-82.80495901945264</td><td>-151.00139949646262</td><td>-1.282385237152892</td></tr>\n",
       "<tr><td>...</td><td>...</td><td>...</td><td>...</td><td>...</td><td>...</td><td>...</td><td>...</td></tr>\n",
       "<tr><td>254.179977</td><td>27.821945</td><td>0.034347</td><td>102.27</td><td>-21.902</td><td>-24.657567864623026</td><td>-87.02190915627035</td><td>47.7320078542621</td></tr>\n",
       "<tr><td>254.507111</td><td>38.219166</td><td>0.033607</td><td>100.08</td><td>-20.833</td><td>-21.002975316740624</td><td>-75.77079853354692</td><td>61.9166174579412</td></tr>\n",
       "<tr><td>176.665405</td><td>-1.996389</td><td>0.028186</td><td>84.03</td><td>-20.128</td><td>-83.83680913820184</td><td>4.884790453491077</td><td>-2.92731203499006</td></tr>\n",
       "<tr><td>194.863342</td><td>14.171667</td><td>0.006631</td><td>19.85</td><td>-20.152</td><td>-18.60193570245745</td><td>-4.936850373518833</td><td>4.8598350292089005</td></tr>\n",
       "<tr><td>209.10376</td><td>-0.247222</td><td>0.029687</td><td>88.48</td><td>-20.284</td><td>-77.3078225906293</td><td>-43.035627259662505</td><td>-0.38177567127876544</td></tr>\n",
       "<tr><td>210.355408</td><td>-0.623889</td><td>0.024667</td><td>73.59</td><td>-20.212</td><td>-63.49757938262805</td><td>-37.18740958342214</td><td>-0.8012995829607787</td></tr>\n",
       "<tr><td>218.935425</td><td>-0.013333</td><td>0.029647</td><td>88.36</td><td>-20.747</td><td>-68.73124305268504</td><td>-55.529320233958096</td><td>-0.02056179145094486</td></tr>\n",
       "<tr><td>244.932526</td><td>31.281389</td><td>0.034384</td><td>102.38</td><td>-21.094</td><td>-37.07109196261426</td><td>-79.25539992017913</td><td>53.15994849688876</td></tr>\n",
       "<tr><td>246.757507</td><td>49.535557</td><td>0.047553</td><td>141.22</td><td>-20.84</td><td>-36.166607499564165</td><td>-84.21047845982666</td><td>107.4414269243458</td></tr>\n",
       "<tr><td>241.195023</td><td>24.278889</td><td>0.031822</td><td>94.8</td><td>-20.229</td><td>-41.637513699908915</td><td>-75.72277468744413</td><td>38.97972353063151</td></tr>\n",
       "</table></div>"
      ],
      "text/plain": [
       "<Table length=120606>\n",
       "    ra        dec    redshift ...          y                   z          \n",
       " float64    float64  float64  ...       float64             float64       \n",
       "---------- --------- -------- ... ------------------- --------------------\n",
       "171.592148 -1.054439 0.077352 ...  33.380439456979786   -4.201818507222872\n",
       "174.536224 -1.051174  0.07771 ...  21.836113888392614   -4.207888553508546\n",
       "239.382782 -0.467646 0.084655 ... -214.71841309343415  -2.0364686358911204\n",
       "239.679092 -0.448756 0.051608 ... -132.18813677073487  -1.1994215246262816\n",
       "239.698471 -0.450346 0.051549 ... -132.06747809734955   -1.202334951667533\n",
       "240.629196 -0.597995 0.094277 ...  -241.6524768705178  -2.8942268386243404\n",
       "240.581787 -0.432649 0.060939 ... -157.20401535690624   -1.362818520396651\n",
       " 240.66481 -0.506757 0.057744 ...  -149.1799148683226  -1.5135529265773187\n",
       "241.260864  -0.42664 0.058116 ... -151.00139949646262   -1.282385237152892\n",
       "       ...       ...      ... ...                 ...                  ...\n",
       "254.179977 27.821945 0.034347 ...  -87.02190915627035     47.7320078542621\n",
       "254.507111 38.219166 0.033607 ...  -75.77079853354692     61.9166174579412\n",
       "176.665405 -1.996389 0.028186 ...   4.884790453491077    -2.92731203499006\n",
       "194.863342 14.171667 0.006631 ...  -4.936850373518833   4.8598350292089005\n",
       " 209.10376 -0.247222 0.029687 ... -43.035627259662505 -0.38177567127876544\n",
       "210.355408 -0.623889 0.024667 ...  -37.18740958342214  -0.8012995829607787\n",
       "218.935425 -0.013333 0.029647 ... -55.529320233958096 -0.02056179145094486\n",
       "244.932526 31.281389 0.034384 ...  -79.25539992017913    53.15994849688876\n",
       "246.757507 49.535557 0.047553 ...  -84.21047845982666    107.4414269243458\n",
       "241.195023 24.278889 0.031822 ...  -75.72277468744413    38.97972353063151"
      ]
     },
     "execution_count": 19,
     "metadata": {},
     "output_type": "execute_result"
    }
   ],
   "source": [
    "print(len(catalog))\n",
    "catalog "
   ]
  },
  {
   "cell_type": "code",
   "execution_count": 20,
   "id": "3856d325",
   "metadata": {},
   "outputs": [
    {
     "name": "stdout",
     "output_type": "stream",
     "text": [
      "107490\n",
      "9069\n",
      "98421\n"
     ]
    },
    {
     "data": {
      "text/html": [
       "<div><i>Table length=107490</i>\n",
       "<table id=\"table2135525625472\" class=\"table-striped table-bordered table-condensed\">\n",
       "<thead><tr><th>Index</th><th>X</th><th>Y</th><th>Z</th><th>Void Classification</th></tr></thead>\n",
       "<thead><tr><th>int64</th><th>float64</th><th>float64</th><th>float64</th><th>int64</th></tr></thead>\n",
       "<tr><td>0</td><td>-225.83502939603665</td><td>33.380040422036004</td><td>-4.20176827803359</td><td>0</td></tr>\n",
       "<tr><td>1</td><td>-228.2865785884008</td><td>21.835838874076924</td><td>-4.207835557375765</td><td>0</td></tr>\n",
       "<tr><td>2</td><td>-127.07035086633252</td><td>-214.71693768204196</td><td>-2.036454642545222</td><td>0</td></tr>\n",
       "<tr><td>3</td><td>-77.30838521420394</td><td>-132.18668741668142</td><td>-1.1994083737756003</td><td>0</td></tr>\n",
       "<tr><td>4</td><td>-77.17626037293262</td><td>-132.06325037487125</td><td>-1.2022964627179837</td><td>0</td></tr>\n",
       "<tr><td>5</td><td>-88.64798332288218</td><td>-157.20795903485555</td><td>-1.3628527085650357</td><td>0</td></tr>\n",
       "<tr><td>6</td><td>-83.83784272771014</td><td>-149.18251293916907</td><td>-1.5135792861427908</td><td>0</td></tr>\n",
       "<tr><td>7</td><td>-82.8061041106798</td><td>-151.00348766098682</td><td>-1.282402970971039</td><td>0</td></tr>\n",
       "<tr><td>8</td><td>-133.06090298152083</td><td>-243.24862829581676</td><td>-2.3618926840509133</td><td>0</td></tr>\n",
       "<tr><td>...</td><td>...</td><td>...</td><td>...</td><td>...</td></tr>\n",
       "<tr><td>107480</td><td>-22.75965643140408</td><td>6.989826445767056</td><td>22.76222278281924</td><td>1</td></tr>\n",
       "<tr><td>107481</td><td>-9.841630590214736</td><td>1.8081998508525134</td><td>3.192956377169244</td><td>1</td></tr>\n",
       "<tr><td>107482</td><td>-0.09744157682096964</td><td>-0.22546331833132513</td><td>0.1720202667850427</td><td>1</td></tr>\n",
       "<tr><td>107483</td><td>-100.67834540104913</td><td>72.51138270601658</td><td>48.78669497403091</td><td>1</td></tr>\n",
       "<tr><td>107484</td><td>-24.988196133048977</td><td>11.160318036537454</td><td>6.1011322037613285</td><td>1</td></tr>\n",
       "<tr><td>107485</td><td>-39.82776211347037</td><td>-5.907597731476847</td><td>52.00990157190147</td><td>1</td></tr>\n",
       "<tr><td>107486</td><td>-118.06424229939294</td><td>-57.56996150002616</td><td>18.5168817491981</td><td>1</td></tr>\n",
       "<tr><td>107487</td><td>-133.47485048178555</td><td>-98.80976849241469</td><td>49.301359829321214</td><td>1</td></tr>\n",
       "<tr><td>107488</td><td>-62.25432641021563</td><td>-72.03757383822698</td><td>32.95817206473227</td><td>1</td></tr>\n",
       "<tr><td>107489</td><td>-46.63470595169554</td><td>-65.06167488148832</td><td>18.7298453869075</td><td>1</td></tr>\n",
       "</table></div>"
      ],
      "text/plain": [
       "<Table length=107490>\n",
       "Index           X           ...          Z          Void Classification\n",
       "int64        float64        ...       float64              int64       \n",
       "------ -------------------- ... ------------------- -------------------\n",
       "     0  -225.83502939603665 ...   -4.20176827803359                   0\n",
       "     1   -228.2865785884008 ...  -4.207835557375765                   0\n",
       "     2  -127.07035086633252 ...  -2.036454642545222                   0\n",
       "     3   -77.30838521420394 ... -1.1994083737756003                   0\n",
       "     4   -77.17626037293262 ... -1.2022964627179837                   0\n",
       "     5   -88.64798332288218 ... -1.3628527085650357                   0\n",
       "     6   -83.83784272771014 ... -1.5135792861427908                   0\n",
       "     7    -82.8061041106798 ...  -1.282402970971039                   0\n",
       "     8  -133.06090298152083 ... -2.3618926840509133                   0\n",
       "   ...                  ... ...                 ...                 ...\n",
       "107480   -22.75965643140408 ...   22.76222278281924                   1\n",
       "107481   -9.841630590214736 ...   3.192956377169244                   1\n",
       "107482 -0.09744157682096964 ...  0.1720202667850427                   1\n",
       "107483  -100.67834540104913 ...   48.78669497403091                   1\n",
       "107484  -24.988196133048977 ...  6.1011322037613285                   1\n",
       "107485   -39.82776211347037 ...   52.00990157190147                   1\n",
       "107486  -118.06424229939294 ...    18.5168817491981                   1\n",
       "107487  -133.47485048178555 ...  49.301359829321214                   1\n",
       "107488   -62.25432641021563 ...   32.95817206473227                   1\n",
       "107489   -46.63470595169554 ...    18.7298453869075                   1"
      ]
     },
     "execution_count": 20,
     "metadata": {},
     "output_type": "execute_result"
    }
   ],
   "source": [
    "print(len(Austin_class))\n",
    "print(len(Austin_class[Austin_class['Void Classification'] == 1]))\n",
    "print(len(Austin_class[Austin_class['Void Classification'] == 0]))\n",
    "Austin_class"
   ]
  },
  {
   "cell_type": "markdown",
   "id": "732b7121",
   "metadata": {},
   "source": [
    "# COMPUTE LOCAL DENSITY"
   ]
  },
  {
   "cell_type": "code",
   "execution_count": null,
   "id": "8934d8f4",
   "metadata": {},
   "outputs": [
    {
     "name": "stdout",
     "output_type": "stream",
     "text": [
      "  third_nn_dist   \n",
      "------------------\n",
      "2.9506675140711227\n",
      "1.8808351182549092\n",
      " 5.016808417297436\n",
      "3.1353001331720156\n",
      "2.9802744002952752   third_nn_density  \n",
      "--------------------\n",
      " 0.03892594585503275\n",
      " 0.15029613915567752\n",
      "0.007919859016970407\n",
      "0.032446110080039135\n",
      "0.037777328525819914\n",
      "107490\n"
     ]
    }
   ],
   "source": [
    "import sys\n",
    "from pathlib import Path\n",
    "\n",
    "#THIS IS THE POSITIONS ARRAY FOR THE DENSITY CALCULATION, VERY IMPORTANT\n",
    "positions = np.column_stack((Austin_class['X'], Austin_class['Y'], Austin_class['Z'])) \n",
    "\n",
    "from scipy.spatial import cKDTree\n",
    "\n",
    "tree = cKDTree(positions)\n",
    "\n",
    "disances, _ = tree.query(positions, k=4)  # Find the nearest neighbor for each point\n",
    "\n",
    "third_nn_distance = disances[:, 3]  # Get the distance to the third nearest neighbor\n",
    "\n",
    "Austin_class['third_nn_dist'] = third_nn_distance  # Add to catalog\n",
    "Austin_class['third_nn_density'] = 1 / (third_nn_distance**3)  # Calculate density as inverse cube of distance\n",
    "\n",
    "print(Austin_class['third_nn_dist'][:5], Austin_class['third_nn_density'][:5])\n",
    "\n",
    "print(len(Austin_class['third_nn_dist']))\n"
   ]
  },
  {
   "cell_type": "code",
   "execution_count": null,
   "id": "fe53e5b1",
   "metadata": {},
   "outputs": [
    {
     "name": "stdout",
     "output_type": "stream",
     "text": [
      "(<Column name='Void Classification' dtype='int64' length=2>\n",
      "0\n",
      "1, array([98421,  9069], dtype=int64))\n",
      "Void Classification\n",
      "-------------------\n",
      "                  0\n",
      "                  0\n",
      "                  0\n",
      "                  0\n",
      "                  0\n",
      "                  0\n",
      "                  0\n",
      "                  0\n",
      "                  0\n",
      "                  0\n",
      "                ...\n",
      "                  1\n",
      "                  1\n",
      "                  1\n",
      "                  1\n",
      "                  1\n",
      "                  1\n",
      "                  1\n",
      "                  1\n",
      "                  1\n",
      "                  1\n",
      "Length = 107490 rows\n"
     ]
    },
    {
     "data": {
      "text/plain": [
       "'\\nplt.hist(densities_array[Austin_class[\"Void Classification\"] == 0], alpha=0.5, label=\\'Inside Void Spheres\\', bins=50, color=\\'blue\\')\\nplt.xlabel(\\'Log Density\\')\\nplt.ylabel(\\'Count\\')\\nplt.legend()\\nplt.show()\\n\\nplt.hist(densities_array[Austin_class[\"Void Classification\"] == 1], alpha=0.5, label=\\'Outside Void Spheres\\')\\nplt.show()\\n\\nprint(np.max(densities_array[Austin_class[\"Void Classification\"] == 0]))\\n'"
      ]
     },
     "execution_count": 22,
     "metadata": {},
     "output_type": "execute_result"
    }
   ],
   "source": [
    "print(np.unique(Austin_class[\"Void Classification\"], return_counts=True))\n",
    "\n",
    "unique, counts = np.unique(Austin_class[\"Void Classification\"], return_counts=True)\n",
    "\n",
    "\n",
    "densities_array = np.array(Austin_class[\"third_nn_density\"]) # Convert densities to a NumPy array\n",
    "\n",
    "print(Austin_class[\"Void Classification\"])\n",
    "\n"
   ]
  },
  {
   "cell_type": "markdown",
   "id": "f4322917",
   "metadata": {},
   "source": [
    "# XGBClassifier"
   ]
  },
  {
   "cell_type": "code",
   "execution_count": 23,
   "id": "062d2165",
   "metadata": {},
   "outputs": [
    {
     "name": "stdout",
     "output_type": "stream",
     "text": [
      "Training set size: 85992\n",
      "{0: 78709, 1: 7283}\n"
     ]
    },
    {
     "name": "stderr",
     "output_type": "stream",
     "text": [
      "c:\\Users\\aiden\\anaconda3\\envs\\python310-tensorflow\\lib\\site-packages\\xgboost\\training.py:183: UserWarning: [10:20:23] WARNING: C:\\actions-runner\\_work\\xgboost\\xgboost\\src\\learner.cc:738: \n",
      "Parameters: { \"use_label_encoder\" } are not used.\n",
      "\n",
      "  bst.update(dtrain, iteration=i, fobj=obj)\n"
     ]
    },
    {
     "name": "stdout",
     "output_type": "stream",
     "text": [
      "Accuracy: 0.9988836170806586\n",
      "Precision: 0.9867403314917127\n",
      "Recall: 1.0\n",
      "Optimal Parameters: {'learning_rate': 0.05, 'max_depth': 6, 'n_estimators': 50}\n"
     ]
    },
    {
     "data": {
      "image/png": "[encoded data removed]",
      "text/plain": [
       "<Figure size 1000x600 with 1 Axes>"
      ]
     },
     "metadata": {},
     "output_type": "display_data"
    }
   ],
   "source": [
    "import numpy as np\n",
    "import matplotlib.pyplot as plt\n",
    "from sklearn.model_selection import train_test_split, GridSearchCV, KFold, learning_curve\n",
    "from sklearn.preprocessing import StandardScaler\n",
    "from sklearn.metrics import accuracy_score, precision_score, recall_score\n",
    "from xgboost import XGBClassifier\n",
    "\n",
    "# Assuming these arrays exist:\n",
    "# densities_array and Austin_class[\"Void Classification\"]\n",
    "\n",
    "scaler = StandardScaler()\n",
    "\n",
    "# Combine features (only densities in this case)\n",
    "features = np.column_stack((densities_array,))\n",
    "results = np.array(Austin_class[\"Void Classification\"])\n",
    "\n",
    "# Shuffle\n",
    "indices = np.random.permutation(len(features))\n",
    "features = features[indices]\n",
    "results = results[indices]\n",
    "\n",
    "# Train/test split\n",
    "X_train, X_test, y_train, y_test = train_test_split(features, results, test_size=0.2, random_state=42)\n",
    "\n",
    "# Scale features\n",
    "X_train = scaler.fit_transform(X_train)\n",
    "X_test = scaler.transform(X_test)\n",
    "\n",
    "# Check balance\n",
    "print(\"Training set size:\", len(X_train))\n",
    "unique, counts = np.unique(y_train, return_counts=True)\n",
    "print(dict(zip(unique, counts)))\n",
    "\n",
    "# Set up model and grid search\n",
    "model = XGBClassifier(use_label_encoder=False, eval_metric='logloss')\n",
    "\n",
    "param_grid = {\n",
    "    'max_depth': [6, 8, 10, None],\n",
    "    'n_estimators': [50, 100, 150, 200],\n",
    "    'learning_rate': [0.05, 0.1, 0.3, 0.5]\n",
    "}\n",
    "\n",
    "kf = KFold(n_splits=3, shuffle=True, random_state=0)\n",
    "grid_search = GridSearchCV(estimator=model, param_grid=param_grid, cv=kf, scoring='accuracy', n_jobs=-1)\n",
    "\n",
    "grid_search.fit(X_train, y_train)\n",
    "best_model = grid_search.best_estimator_\n",
    "\n",
    "# Predict and evaluate\n",
    "y_pred = best_model.predict(X_test)\n",
    "\n",
    "accuracy = accuracy_score(y_test, y_pred)\n",
    "precision = precision_score(y_test, y_pred, average='binary')  # adjust to 'macro' or 'weighted' if multiclass\n",
    "recall = recall_score(y_test, y_pred, average='binary')\n",
    "\n",
    "print(\"Accuracy:\", accuracy)\n",
    "print(\"Precision:\", precision)\n",
    "print(\"Recall:\", recall)\n",
    "print(\"Optimal Parameters:\", grid_search.best_params_)\n",
    "\n",
    "# Learning curve\n",
    "train_sizes, train_scores, test_scores = learning_curve(\n",
    "    best_model, features, results, cv=kf, scoring='accuracy',\n",
    "    train_sizes=np.linspace(0.1, 1.0, 10), n_jobs=-1\n",
    ")\n",
    "\n",
    "train_mean = np.mean(train_scores, axis=1)\n",
    "test_mean = np.mean(test_scores, axis=1)\n",
    "\n",
    "plt.figure(figsize=(10,6))\n",
    "plt.plot(train_sizes, train_mean, 'o-', color='blue', label='Training score')\n",
    "plt.plot(train_sizes, test_mean, 'o-', color='green', label='Cross-validation score')\n",
    "plt.title('Learning Curve')\n",
    "plt.xlabel('Training Set Size')\n",
    "plt.ylabel('Accuracy')\n",
    "plt.legend(loc='best')\n",
    "plt.grid(True)\n",
    "plt.show()\n",
    "\n"
   ]
  },
  {
   "cell_type": "code",
   "execution_count": 24,
   "id": "f4d87719",
   "metadata": {},
   "outputs": [
    {
     "data": {
      "image/png": "[encoded data removed]",
      "text/plain": [
       "<Figure size 640x480 with 2 Axes>"
      ]
     },
     "metadata": {},
     "output_type": "display_data"
    }
   ],
   "source": [
    "from sklearn.metrics import confusion_matrix, ConfusionMatrixDisplay\n",
    "\n",
    "# Create the confusion matrix\n",
    "cm = confusion_matrix(y_test, y_pred)\n",
    "\n",
    "# Display the confusion matrix\n",
    "disp = ConfusionMatrixDisplay(confusion_matrix=cm, display_labels=[0, 1])  # Adjust labels to match the number of classes\n",
    "disp.plot(cmap='Blues')\n",
    "plt.title(\"Confusion Matrix\")\n",
    "plt.show()"
   ]
  },
  {
   "cell_type": "markdown",
   "id": "82c38e8f",
   "metadata": {},
   "source": [
    "# DBSCAN"
   ]
  },
  {
   "cell_type": "code",
   "execution_count": 25,
   "id": "456eccfa",
   "metadata": {},
   "outputs": [],
   "source": [
    "from collections import OrderedDict\n",
    "from collections import Counter\n",
    "\n",
    "def helper(y):\n",
    "    ordered_dict = OrderedDict()\n",
    "    for i, yu in enumerate(np.unique(y)):\n",
    "        pos = (y == yu)\n",
    "        indices = np.where(pos)[0]\n",
    "        ordered_dict[yu] = indices\n",
    "    return ordered_dict\n",
    "\n",
    "def entropy(y):\n",
    "    H = 0\n",
    "    ordered = helper(y)\n",
    "    for key in ordered:\n",
    "        H -= len(ordered[key])/len(y)*np.log(len(ordered[key])/len(y))\n",
    "      \n",
    "    return H\n",
    "\n",
    "def mutual_information(labels_true, labels_pred):\n",
    "    n_samples = len(labels_true)\n",
    "    contingency = Counter(zip(labels_true, labels_pred))\n",
    "    mi = 0\n",
    "    for (i, j), n_ij in contingency.items():\n",
    "        # Joint probability\n",
    "        p_ij = n_ij / n_samples\n",
    "        \n",
    "        # Marginal probabilities\n",
    "        p_i = np.sum([n for (x, _), n in contingency.items() if x == i]) / n_samples\n",
    "        p_j = np.sum([n for (_, y), n in contingency.items() if y == j]) / n_samples\n",
    "        \n",
    "        # Add to mutual information\n",
    "        if p_ij > 0:\n",
    "            mi += p_ij * np.log(p_ij / (p_i * p_j))\n",
    "    \n",
    "    return mi\n",
    "\n",
    "def NMI(X,Y):\n",
    "    return 2*mutual_information(X,Y)/(entropy(X)+entropy(Y))\n",
    "\n",
    "from sklearn.cluster import DBSCAN\n",
    "from sklearn.metrics import make_scorer\n",
    "from sklearn.model_selection import GridSearchCV\n",
    "\n",
    "cpalette = [\"#1CE6FF\", \"#FF34FF\", \"#FF4A46\",\"#008941\", \"#006FA6\", \"#A30059\", \"#0000A6\", \"#63FFAC\",\"#B79762\", \"#004D43\", \"#8FB0FF\", \"#997D87\",\"#5A0007\", \"#809693\",\"#1B4400\", \"#4FC601\", \"#3B5DFF\", \"#4A3B53\",\"#886F4C\",\"#34362D\", \"#B4A8BD\", \"#00A6AA\", \"#452C2C\",\"#636375\", \"#A3C8C9\", \"#FF913F\", \"#938A81\",\"#575329\", \"#00FECF\", \"#B05B6F\"]\n",
    "\n",
    "def plot_clustering(X,y):\n",
    "    plt.figure(figsize=(8,6))\n",
    "    for i, yu in enumerate(np.unique(y)):\n",
    "    \n",
    "        pos = (y == yu)\n",
    "        \n",
    "        plt.scatter(X[pos,0], X[pos,1],c=cpalette[i%len(cpalette)])\n",
    "        \n",
    "    plt.show()"
   ]
  },
  {
   "cell_type": "code",
   "execution_count": 26,
   "id": "9aac9f5f",
   "metadata": {},
   "outputs": [
    {
     "name": "stdout",
     "output_type": "stream",
     "text": [
      "Best parameters: {'eps': 10, 'min_samples': 5}\n",
      "Best Accuracy: 0.917927249046423\n"
     ]
    },
    {
     "data": {
      "image/png": "[encoded data removed]",
      "text/plain": [
       "<Figure size 640x480 with 2 Axes>"
      ]
     },
     "metadata": {},
     "output_type": "display_data"
    },
    {
     "name": "stdout",
     "output_type": "stream",
     "text": [
      "Precision: 0.9920\n",
      "Recall: 0.0275\n"
     ]
    }
   ],
   "source": [
    "from sklearn.metrics import accuracy_score, confusion_matrix, ConfusionMatrixDisplay, precision_score, recall_score\n",
    "\n",
    "best_accuracy = -1\n",
    "results_list = []\n",
    "\n",
    "positions = np.column_stack((Austin_class['X'], Austin_class['Y'], Austin_class['Z']))\n",
    "true_labels = np.array(Austin_class[\"Void Classification\"])  # 0 = not void, 1 = void\n",
    "\n",
    "for eps in [0.01, 0.05, 0.1, 0.1, 1, 10, 20, 50]:\n",
    "    for min_samples in [1, 5, 20, 40, 100, 200]:\n",
    "        dbscan = DBSCAN(eps=eps, min_samples=min_samples)\n",
    "        cluster_labels = dbscan.fit_predict(positions)\n",
    "\n",
    "        # Convert cluster labels: cluster -> 0, noise -> 1\n",
    "        predicted_void = np.where(cluster_labels == -1, 1, 0)\n",
    "\n",
    "        acc = accuracy_score(true_labels, predicted_void)\n",
    "        results_list.append({\"eps\": eps, \"min_samples\": min_samples, \"accuracy\": acc})\n",
    "\n",
    "        if acc > best_accuracy:\n",
    "            best_accuracy = acc\n",
    "            best_params = {\"eps\": eps, \"min_samples\": min_samples}\n",
    "\n",
    "print(\"Best parameters:\", best_params)\n",
    "print(\"Best Accuracy:\", best_accuracy)\n",
    "\n",
    "# Fit the best model again\n",
    "dbscan = DBSCAN(eps=best_params[\"eps\"], min_samples=best_params[\"min_samples\"])\n",
    "cluster_labels = dbscan.fit_predict(positions)\n",
    "\n",
    "# Predict void: noise = 1, others = 0\n",
    "predicted_void = np.where(cluster_labels == -1, 1, 0)\n",
    "\n",
    "# Confusion Matrix\n",
    "cm = confusion_matrix(true_labels, predicted_void, labels=[0, 1])\n",
    "disp = ConfusionMatrixDisplay(confusion_matrix=cm, display_labels=[\"Not Void\", \"Void\"])\n",
    "disp.plot(cmap='Blues')\n",
    "plt.title(\"Confusion Matrix\")\n",
    "plt.show()\n",
    "\n",
    "# Precision and Recall\n",
    "precision = precision_score(true_labels, predicted_void)\n",
    "recall = recall_score(true_labels, predicted_void)\n",
    "\n",
    "print(f\"Precision: {precision:.4f}\")\n",
    "print(f\"Recall: {recall:.4f}\")\n"
   ]
  }
 ],
 "metadata": {
  "kernelspec": {
   "display_name": "python310-tensorflow",
   "language": "python",
   "name": "python3"
  },
  "language_info": {
   "codemirror_mode": {
    "name": "ipython",
    "version": 3
   },
   "file_extension": ".py",
   "mimetype": "text/x-python",
   "name": "python",
   "nbconvert_exporter": "python",
   "pygments_lexer": "ipython3",
   "version": "3.10.16"
  }
 },
 "nbformat": 4,
 "nbformat_minor": 5
}
